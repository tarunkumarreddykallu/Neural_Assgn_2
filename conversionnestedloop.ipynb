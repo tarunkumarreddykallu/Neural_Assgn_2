{
  "nbformat": 4,
  "nbformat_minor": 0,
  "metadata": {
    "colab": {
      "provenance": []
    },
    "kernelspec": {
      "name": "python3",
      "display_name": "Python 3"
    },
    "language_info": {
      "name": "python"
    }
  },
  "cells": [
    {
      "cell_type": "code",
      "execution_count": 1,
      "metadata": {
        "colab": {
          "base_uri": "https://localhost:8080/"
        },
        "id": "VWM5TsgtnLh8",
        "outputId": "6eccb892-e6ef-4307-80ad-43b583444efc"
      },
      "outputs": [
        {
          "output_type": "stream",
          "name": "stdout",
          "text": [
            "[381.0, 393.7, 368.3, 375.92]\n"
          ]
        }
      ],
      "source": [
        "# Function to convert inches to centimeters\n",
        "def inches_to_cm(inches):\n",
        "    return round(inches * 2.54, 2)\n",
        "\n",
        "# Input: list of heights in inches\n",
        "heights_in_inches = [150, 155, 145, 148]\n",
        "\n",
        "# Initialize an empty list for heights in centimeters\n",
        "heights_in_cm = []\n",
        "\n",
        "# Nested interactive loop to convert and store heights in centimeters\n",
        "for height in heights_in_inches:\n",
        "    heights_in_cm.append(inches_to_cm(height))\n",
        "\n",
        "# Output: list of heights in centimeters\n",
        "print(heights_in_cm)\n"
      ]
    }
  ]
}