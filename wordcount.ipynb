{
  "nbformat": 4,
  "nbformat_minor": 0,
  "metadata": {
    "colab": {
      "provenance": [],
      "toc_visible": true
    },
    "kernelspec": {
      "name": "python3",
      "display_name": "Python 3"
    },
    "language_info": {
      "name": "python"
    }
  },
  "cells": [
    {
      "cell_type": "code",
      "execution_count": 17,
      "metadata": {
        "colab": {
          "base_uri": "https://localhost:8080/"
        },
        "id": "u02gfSlXiAde",
        "outputId": "3d751c54-9831-49f2-8835-76596f9e0c5a"
      },
      "outputs": [
        {
          "output_type": "stream",
          "name": "stdout",
          "text": [
            "python course\n",
            "neural network course"
          ]
        }
      ],
      "source": [
        "from collections import defaultdict\n",
        "\n",
        "def count_words_in_file(input_file, output_file):\n",
        "    word_counts = defaultdict(int)\n",
        "\n",
        "    try:\n",
        "        with open(input_file, 'r') as infile:\n",
        "            lines = infile.readlines()\n",
        "\n",
        "        # Print the original content\n",
        "        for line in lines:\n",
        "            print(line, end='')\n",
        "\n",
        "        # Count the words\n",
        "        for line in lines:\n",
        "            words = line.split()\n",
        "            for word in words:\n",
        "                word_counts[word] += 1\n",
        "\n",
        "        # Write to output file\n",
        "        with open(output_file, 'w') as outfile:\n",
        "            for line in lines:\n",
        "                outfile.write(line)\n",
        "            outfile.write(\"\\nWord_Count:\\n\")\n",
        "            for word, count in word_counts.items():\n",
        "                outfile.write(f\"{word}: {count}\\n\")\n",
        "\n",
        "    except FileNotFoundError:\n",
        "        print(f\"The file {input_file} does not exist.\")\n",
        "\n",
        "# Example usage\n",
        "input_file = '/input.txt'\n",
        "output_file = '/output.txt'\n",
        "count_words_in_file(input_file, output_file)\n"
      ]
    }
  ]
}