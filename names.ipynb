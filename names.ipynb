{
  "nbformat": 4,
  "nbformat_minor": 0,
  "metadata": {
    "colab": {
      "provenance": [],
      "toc_visible": true
    },
    "kernelspec": {
      "name": "python3",
      "display_name": "Python 3"
    },
    "language_info": {
      "name": "python"
    }
  },
  "cells": [
    {
      "cell_type": "code",
      "execution_count": 1,
      "metadata": {
        "colab": {
          "base_uri": "https://localhost:8080/"
        },
        "id": "iCKYiQQdgRur",
        "outputId": "8ed236a5-714c-4c42-ff5d-039480bbe9e0"
      },
      "outputs": [
        {
          "output_type": "stream",
          "name": "stdout",
          "text": [
            "Enter your first name: Tarun Kumar Reddy\n",
            "Enter your last name: Kallu\n",
            "Full Name: Tarun Kumar Reddy Kallu\n"
          ]
        }
      ],
      "source": [
        "def fullname(first_name, last_name):\n",
        "\treturn f\"{first_name} {last_name}\"\n",
        "# Taking user input\n",
        "first_name = input(\"Enter your first name: \")\n",
        "last_name = input(\"Enter your last name: \")\n",
        "# Calling the fullname function\n",
        "full_name = fullname(first_name, last_name)\n",
        "#Displaying the result\n",
        "print(\"Full Name:\", full_name)\n"
      ]
    }
  ]
}