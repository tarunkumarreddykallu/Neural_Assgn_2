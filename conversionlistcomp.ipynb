{
  "nbformat": 4,
  "nbformat_minor": 0,
  "metadata": {
    "colab": {
      "provenance": []
    },
    "kernelspec": {
      "name": "python3",
      "display_name": "Python 3"
    },
    "language_info": {
      "name": "python"
    }
  },
  "cells": [
    {
      "cell_type": "code",
      "execution_count": 4,
      "metadata": {
        "colab": {
          "base_uri": "https://localhost:8080/"
        },
        "id": "pKQ0svfel_Tz",
        "outputId": "bd7ff798-b574-4590-9899-a0e2efa9282c"
      },
      "outputs": [
        {
          "output_type": "stream",
          "name": "stdout",
          "text": [
            "[381.0, 393.7, 368.3, 375.92]\n"
          ]
        }
      ],
      "source": [
        "# Function to convert inches to centimeters\n",
        "def inches_to_cm(inches):\n",
        "    return round(inches * 2.54, 2)\n",
        "\n",
        "# Input: list of heights in inches\n",
        "heights_in_inches = [150, 155, 145, 148]\n",
        "\n",
        "# List comprehension to convert heights to centimeters\n",
        "heights_in_cm = [inches_to_cm(height) for height in heights_in_inches]\n",
        "\n",
        "# Output: list of heights in centimeters\n",
        "print(heights_in_cm)\n"
      ]
    }
  ]
}