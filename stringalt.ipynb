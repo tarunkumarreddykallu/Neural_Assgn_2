{
  "nbformat": 4,
  "nbformat_minor": 0,
  "metadata": {
    "colab": {
      "provenance": []
    },
    "kernelspec": {
      "name": "python3",
      "display_name": "Python 3"
    },
    "language_info": {
      "name": "python"
    }
  },
  "cells": [
    {
      "cell_type": "code",
      "execution_count": 4,
      "metadata": {
        "colab": {
          "base_uri": "https://localhost:8080/"
        },
        "id": "vjdbjAPggu7p",
        "outputId": "6bd30954-d93e-4c88-fd80-388858d41ae5"
      },
      "outputs": [
        {
          "output_type": "stream",
          "name": "stdout",
          "text": [
            "Enter your String:Good Evening\n",
            "Original String: Good Evening\n",
            "Every Other Character: Go vnn\n"
          ]
        }
      ],
      "source": [
        "def string_alternative(full_name):\n",
        "    return full_name[::2]\n",
        "#Example usage with the provided string \"Good evening\"\n",
        "example_str = input(\"Enter your String:\")\n",
        "result = string_alternative(example_str)\n",
        "#Displaying the result\n",
        "print(\"Original String:\", example_str)\n",
        "print(\"Every Other Character:\", result)\n"
      ]
    }
  ]
}